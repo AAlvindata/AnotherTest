{
    "cells": [
        {
            "cell_type": "code",
            "execution_count": 23,
            "id": "4436c5c8",
            "metadata": {
                "scrolled": true
            },
            "outputs": [
                {
                    "name": "stdout",
                    "output_type": "stream",
                    "text": "Collecting todays_listings... Done! It took 0 seconds. Good luck!\n          u_id  first_date status  \\\n0    138871351  2022-03-22   None   \n1    138871371  2022-03-22   None   \n2    138742187  2022-03-22   None   \n3    138883763  2022-03-23   None   \n4    138622943  2022-03-22   None   \n..         ...         ...    ...   \n221  138871507  2022-03-22   None   \n222  138562235  2022-03-22   None   \n223  138562235  2022-03-23   None   \n224  138779167  2022-03-22   None   \n225  138260514  2022-03-23   None   \n\n                                           address           suburb  \\\n0          120 Congewai Street, Aberdare, NSW 2325         Aberdare   \n1         10 Devon Road, Alexandra Hills, Qld 4161  Alexandra Hills   \n2       9 Jasper Street, Alexandra Hills, Qld 4161  Alexandra Hills   \n3       19 Palana Drive, Alexandra Hills, Qld 4161  Alexandra Hills   \n4    17 Greystoke Place, Alexandra Hills, Qld 4161  Alexandra Hills   \n..                                             ...              ...   \n221          11 Anglesey Street, Wodonga, Vic 3690          Wodonga   \n222          41 Blackall Street, Woombye, Qld 4559          Woombye   \n223          41 Blackall Street, Woombye, Qld 4559          Woombye   \n224           26 Minori Gardens, Yangebup, WA 6164         Yangebup   \n225           18B Scala Gardens, Yangebup, WA 6164         Yangebup   \n\n                            price property_type bedrooms bathrooms  land_size  \n0             $875,000 - $900,000         house        5         3     1012.0  \n1                PROPERTY PREVIEW         house        3         1      636.0  \n2              Mid to High $800's         house        4         2      706.0  \n3                  By Negotiation         house        4         2     1200.0  \n4    Serious offers over $849,000         house        4         2      799.0  \n..                            ...           ...      ...       ...        ...  \n221           $540,000 - $570,000         house        4         2      901.0  \n222  Buy in the HEART of Woombye!         house        2         1     1012.0  \n223  TOWN CENTRE ~ RARE COMMODITY         house        2         1     1012.0  \n224                    Low$600K's         house        4         2      453.0  \n225           $630,000 - $650,000         house        4         2      470.0  \n\n[226 rows x 10 columns]\n"
                }
            ],
            "source": "import pandas as pd\nimport numpy as np\nimport mysql.connector as mysql\nimport time\nfrom datetime import date, timedelta\nimport re \nimport os\n\nquery0 = {'approved_suburbs' : f\"\"\"SELECT name \n                            FROM look_up.approved_ssc\"\"\"}\nquery0 = {k: \" \".join(query0[k].replace(f\"\\n\",\"\").split()) for k, v in query0.items()}\n\nelderbrain_connection = mysql.connect(\n        host=\"45.76.126.137\",\n        user=\"alvin\",\n        passwd=\"xeLGLOVI1ZtSMhW2\"\n        ) \n\nres = []\nsb = []\nfor sql in query0:\n    elderbrain_cursor0 = elderbrain_connection.cursor()\n    elderbrain_cursor0.execute(query0[sql])\n    data0 = elderbrain_cursor0.fetchall()\n\n# remove content within parentheses\nfor r in data0:\n    res.append(r[0])\n    \n# add outputs back to the list\nfor elem in res:\n    sb.append(elem)\n    \n# make variables\napproved_suburbs = tuple(sb)\ntoday = date.today()\nprevious_date = date.today() - timedelta(1)\n\nquery = {'todays_listings' : f\"\"\"SELECT u_id,\n                            first_date,\n                            status,\n                            address,                    \n                            TRIM(REGEXP_SUBSTR(suburb,\"[A-z ]*\")) AS suburb,\n                            price,\n                            property_type,\n                            bedrooms,\n                            bathrooms,\n                            land_size\n                            FROM real_estate.buy_campaign\n                            WHERE first_date BETWEEN '{previous_date}' AND '{today}' AND property_type = 'house' AND suburb in {approved_suburbs} AND status IS NULL AND (land_size >= '400' OR land_size IS NULL)\n                            ORDER BY suburb\"\"\"\n        }\nquery = {k: \" \".join(query[k].replace(f\"\\n\",\"\").split()) for k, v in query.items()}\n\n\nelderbrain_cursor = elderbrain_connection.cursor()\n\nfor sql in query:\n        print(f\"Collecting {sql}...\", end =\" \")\n        start = time.time()\n        elderbrain_cursor.execute(query[sql])\n        data = elderbrain_cursor.fetchall()\n        colnames = [desc[0] for desc in elderbrain_cursor.description] # get a list of column names\n        data = pd.DataFrame(data,columns=colnames)\n        query[sql] = data \n        end = time.time()\n        print(f\"Done! It took {round(end - start)} seconds. Good luck!\") \n        \n        \nelderbrain_connection.close()\n\ndf = pd.DataFrame(query[sql])"
        },
        {
            "cell_type": "code",
            "execution_count": 28,
            "id": "1f33ffcb",
            "metadata": {},
            "outputs": [
                {
                    "name": "stdout",
                    "output_type": "stream",
                    "text": "address formatted\n          u_id  first_date status              address            suburb  \\\n0    138871351  2022-03-22   None  120 Congewai Street          Aberdare   \n1    138871371  2022-03-22   None        10 Devon Road   Alexandra Hills   \n2    138742187  2022-03-22   None      9 Jasper Street   Alexandra Hills   \n3    138883763  2022-03-23   None      19 Palana Drive   Alexandra Hills   \n4    138622943  2022-03-22   None   17 Greystoke Place   Alexandra Hills   \n..         ...         ...    ...                  ...               ...   \n221  138871507  2022-03-22   None   11 Anglesey Street           Wodonga   \n222  138562235  2022-03-22   None   41 Blackall Street           Woombye   \n223  138562235  2022-03-23   None   41 Blackall Street           Woombye   \n224  138779167  2022-03-22   None    26 Minori Gardens          Yangebup   \n225  138260514  2022-03-23   None    18B Scala Gardens          Yangebup   \n\n    state                         price property_type bedrooms bathrooms  \\\n0     NSW           $875,000 - $900,000         house        5         3   \n1     Qld              PROPERTY PREVIEW         house        3         1   \n2     Qld            Mid to High $800's         house        4         2   \n3     Qld                By Negotiation         house        4         2   \n4     Qld  Serious offers over $849,000         house        4         2   \n..    ...                           ...           ...      ...       ...   \n221   Vic           $540,000 - $570,000         house        4         2   \n222   Qld  Buy in the HEART of Woombye!         house        2         1   \n223   Qld  TOWN CENTRE ~ RARE COMMODITY         house        2         1   \n224    WA                    Low$600K's         house        4         2   \n225    WA           $630,000 - $650,000         house        4         2   \n\n     land_size  \n0       1012.0  \n1        636.0  \n2        706.0  \n3       1200.0  \n4        799.0  \n..         ...  \n221      901.0  \n222     1012.0  \n223     1012.0  \n224      453.0  \n225      470.0  \n\n[204 rows x 11 columns]\n"
                }
            ],
            "source": "# separate & clean address\nnew = df.copy()\nnew = new[new['address'].notna()]\nnew = new[~new.address.str.contains('Lot')]\nnew = new[~new.address.str.contains('/')]\nnew[['address','suburb','newcl','x']] = new.address.str.split(',', expand=True)\nnew[['state', 'postcode']] = new.newcl.str.split(\" \", expand=True, n=1)\nnew = new.drop('state', axis = 1)\nnew[['state', 'num']] = new.postcode.str.split(\" \", expand=True)\nnew = new.drop('num', axis = 1)\nnew = new.drop('postcode', axis = 1)\nnew = new.drop('newcl', axis = 1)\nnew = new.reindex(columns=['u_id', 'first_date', 'status', 'address', 'suburb', 'state', 'price', 'property_type', 'bedrooms', 'bathrooms', 'land_size'])\nprint('address formatted')\nprint(new)"
        },
        {
            "cell_type": "code",
            "execution_count": 31,
            "id": "2ba10195",
            "metadata": {
                "scrolled": true
            },
            "outputs": [],
            "source": "# make a url\n# variables\n# loop through each variable\n\ndef create_url(suburb, property_type, state, u_id):\n    url = f\"https://www.realestate.com.au/property-{suburb}-{property_type}-{state}-{u_id}\"\n    url = url.replace(f\" \",\"\")\n    return url\n\nL = []\nnew.copy()\nfor row in new.index:\n     sub = new['suburb'][row]\n     prt = new['property_type'][row]\n     sta = new['state'][row]\n     uid = new['u_id'][row]\n     link = create_url(sub, prt, sta, uid)\n    #convert string generated by loop into a df\n     L.append(link)"
        },
        {
            "cell_type": "code",
            "execution_count": 32,
            "id": "a0521c07",
            "metadata": {},
            "outputs": [
                {
                    "name": "stdout",
                    "output_type": "stream",
                    "text": "Table generated\n"
                }
            ],
            "source": "try: \n    new = new.drop(['u_id', 'status'], axis = 1)\n    new.insert(9, 'urllink', L)\n    new['address'].replace('', np.nan, inplace=True)\n    new.dropna(subset=['suburb'], inplace=True)\n    new = new[~new['address'].str.contains('\\/')]\n    print('Table generated')\nexcept ValueError:\n    print('urllink already exists, there is no need to do it again!')\n    pass"
        },
        {
            "cell_type": "code",
            "execution_count": 33,
            "id": "04259691",
            "metadata": {},
            "outputs": [
                {
                    "name": "stdout",
                    "output_type": "stream",
                    "text": "urllink activated successfully\n"
                }
            ],
            "source": "def fun(path):\n    \n    # returns the final component of a path\n    f_url = os.path.basename(path)\n      \n    # convert the path into clickable link\n    return '<a href=\"{}\">{}</a>'.format(path, f_url)\n\nnew = new.style.format({'urllink': fun})  \nprint('urllink activated successfully')"
        },
        {
            "cell_type": "code",
            "execution_count": 34,
            "id": "4e498eac",
            "metadata": {
                "scrolled": true
            },
            "outputs": [
                {
                    "name": "stdout",
                    "output_type": "stream",
                    "text": "listings saved successfully\n"
                }
            ],
            "source": "try:\n    new.to_excel('C:/Users/AlvinXXX/results.xlsx', index = False)  \n    print('listings saved successfully')\nexcept PermissionError:\n    print('Hey bro, fail to save it. Please close the spreadsheet first and then try again')\n    pass"
        },
        {
            "cell_type": "code",
            "execution_count": null,
            "id": "9e0ac91a",
            "metadata": {
                "scrolled": true
            },
            "outputs": [],
            "source": ""
        },
        {
            "cell_type": "code",
            "execution_count": null,
            "id": "696cbeb3",
            "metadata": {},
            "outputs": [],
            "source": ""
        },
        {
            "cell_type": "code",
            "execution_count": null,
            "id": "c813d24b",
            "metadata": {},
            "outputs": [],
            "source": ""
        }
    ],
    "metadata": {
        "kernelspec": {
            "display_name": "Python 3.9",
            "language": "python",
            "name": "python3"
        },
        "language_info": {
            "codemirror_mode": {
                "name": "ipython",
                "version": 3
            },
            "file_extension": ".py",
            "mimetype": "text/x-python",
            "name": "python",
            "nbconvert_exporter": "python",
            "pygments_lexer": "ipython3",
            "version": "3.9.7"
        }
    },
    "nbformat": 4,
    "nbformat_minor": 5
}